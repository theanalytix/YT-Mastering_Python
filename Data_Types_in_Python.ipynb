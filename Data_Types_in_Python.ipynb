{
  "cells": [
    {
      "cell_type": "markdown",
      "id": "b06013a8",
      "metadata": {
        "id": "b06013a8"
      },
      "source": [
        "\n",
        "# Lecture : Data Types in Python\n",
        "\n",
        "\n",
        "Estimated time needed: **15** minutes\n",
        "\n",
        "___\n",
        "\n",
        "## Objectives\n",
        "\n",
        "After completing this lab you will be able to:\n",
        "\n",
        "* Different data types in Ptyhon\n",
        "* usage of dtypes\n",
        "\n",
        "<div class=\"alert alert-block alert-info\">\n",
        "<b>Note:</b> This Notebook is created for Python Module\n",
        "In case of any doubts contact to \"webinars@theanalytix.in\".\n",
        "</div>\n",
        "\n",
        "Data types represent the type of value that a variable can hold. Here are some of the common data types in Python:\n",
        "\n",
        "__Numeric Types:__\n",
        "\n",
        "* int: Integer type, e.g., x = 5\n",
        "* float: Floating-point type, e.g., y = 3.14\n",
        "* complex: Complex number type, e.g., z = 2 + 3j\n",
        "\n",
        "\n",
        "__Sequence Types:__\n",
        "\n",
        "* str: String type, e.g., s = \"Hello\"\n",
        "* list: List type, e.g., my_list = [1, 2, 3]\n",
        "* tuple: Tuple type, e.g., my_tuple = (1, 2, 3)\n",
        "\n",
        "\n",
        "__Set Types:__\n",
        "\n",
        "* set: Set type, e.g., my_set = {1, 2, 3}\n",
        "\n",
        "__Mapping Type:__\n",
        "\n",
        "* dict: Dictionary type, e.g., my_dict = {'key': 'value'}\n",
        "\n",
        "__Boolean Type:__\n",
        "\n",
        "* bool: Boolean type, e.g., flag = True\n"
      ]
    },
    {
      "cell_type": "markdown",
      "id": "ce94bd5d",
      "metadata": {
        "id": "ce94bd5d"
      },
      "source": [
        "### Numeric Data Type\n",
        "numeric data types are used to represent numeric values. The primary numeric types in Python include:"
      ]
    },
    {
      "cell_type": "code",
      "execution_count": 2,
      "id": "4de3f420",
      "metadata": {
        "id": "4de3f420",
        "outputId": "7f0e4b96-759e-444c-9893-ac838721f0e8",
        "colab": {
          "base_uri": "https://localhost:8080/"
        }
      },
      "outputs": [
        {
          "output_type": "stream",
          "name": "stdout",
          "text": [
            "<class 'int'>\n",
            "<class 'int'>\n",
            "<class 'float'>\n",
            "<class 'complex'>\n",
            "0.0 5.0\n"
          ]
        }
      ],
      "source": [
        "# int (Integer): Represents whole numbers without any decimal point.\n",
        "\n",
        "x = 5 ; a = -90\n",
        "print(type(x))\n",
        "print(type(a))\n",
        "\n",
        "\n",
        "# float (Floating-Point): Represents real numbers with a decimal point (+,-).\n",
        "\n",
        "y = -3.14\n",
        "print(type(y))\n",
        "\n",
        "\n",
        "# complex: Represents complex numbers in the form of a + bj, where a and b are real numbers and j is the imaginary unit.\n",
        "z = 2 + 3j\n",
        "h = 5j\n",
        "print(type(z))\n",
        "print(h.real, h.imag)"
      ]
    },
    {
      "cell_type": "markdown",
      "id": "40e8fa22",
      "metadata": {
        "id": "40e8fa22"
      },
      "source": [
        "### String Data Type\n",
        "the string data type (str) is used to represent sequences of characters. Strings can contain letters, numbers, and symbols. Here are some examples:"
      ]
    },
    {
      "cell_type": "code",
      "execution_count": 3,
      "id": "3f3d8638",
      "metadata": {
        "id": "3f3d8638",
        "outputId": "1ad2956b-b6e4-42f3-8a05-ddc2ab51fe43",
        "colab": {
          "base_uri": "https://localhost:8080/"
        }
      },
      "outputs": [
        {
          "output_type": "stream",
          "name": "stdout",
          "text": [
            "Hello, World!\n",
            "------Now let see MLS-----\n",
            "This is a\n",
            "multiline\n",
            "string.\n"
          ]
        }
      ],
      "source": [
        "# Single-line string\n",
        "my_string = \"Hello, World!\"\n",
        "print(my_string)\n",
        "\n",
        "print('------Now let see MLS-----')\n",
        "# Multiline string using triple-quotes\n",
        "multiline_string = \"\"\"This is a\n",
        "multiline\n",
        "string.\"\"\"\n",
        "print(multiline_string)"
      ]
    },
    {
      "cell_type": "markdown",
      "id": "234be150",
      "metadata": {
        "id": "234be150"
      },
      "source": [
        "<div class=\"alert alert-block alert-info\">\n",
        "<b>Note:</b> Strings in Python are immutable, meaning you cannot change the individual characters of a string directly. However, you can create new strings by combining or manipulating existing ones..\n",
        "</div>"
      ]
    },
    {
      "cell_type": "markdown",
      "id": "e0619f67",
      "metadata": {
        "id": "e0619f67"
      },
      "source": [
        "### List Data Type\n",
        "a list is a versatile and widely used data type that represents an ordered collection of elements. Lists are defined using square brackets [ ] and can contain elements of different data types. Here's an example of a list:"
      ]
    },
    {
      "cell_type": "code",
      "execution_count": 4,
      "id": "aca2af8d",
      "metadata": {
        "id": "aca2af8d",
        "outputId": "d3555768-7627-4179-cde8-9538615ebdc3",
        "colab": {
          "base_uri": "https://localhost:8080/"
        }
      },
      "outputs": [
        {
          "output_type": "stream",
          "name": "stdout",
          "text": [
            "[1, 2, 3, 'four', 5.0, [1, 2, 3], ('A', 'B'), {'C', 12}]\n"
          ]
        }
      ],
      "source": [
        "# Creating a list\n",
        "my_list = [1, 2, 3, \"four\", 5.0, [1, 2, 3], (\"A\",\"B\"), {\"C\", 12}]\n",
        "print(my_list)"
      ]
    },
    {
      "cell_type": "markdown",
      "id": "5e2719fd",
      "metadata": {
        "id": "5e2719fd"
      },
      "source": [
        "### Tuple Data Type\n",
        "a tuple is a data type that represents an ordered, immutable collection of elements. Tuples are similar to lists, but once a tuple is created, you cannot modify its contents (add, remove, or modify elements). Tuples are defined using parentheses () and may contain elements of different data types. Here's an example:"
      ]
    },
    {
      "cell_type": "code",
      "execution_count": null,
      "id": "bf5d1fa3",
      "metadata": {
        "id": "bf5d1fa3",
        "outputId": "3b7fdf6f-0d08-43ad-8d29-ae87d00a3673"
      },
      "outputs": [
        {
          "name": "stdout",
          "output_type": "stream",
          "text": [
            "(1, 2, 3, 'four', 5.0, [1, 2, 3], ('A', 'B'), {12, 'C'})\n"
          ]
        }
      ],
      "source": [
        "# Creating a tuple\n",
        "my_tuple = (1, 2, 3, \"four\", 5.0, [1, 2, 3], (\"A\",\"B\"), {\"C\", 12})\n",
        "print(my_tuple)"
      ]
    },
    {
      "cell_type": "markdown",
      "id": "ae0f82c8",
      "metadata": {
        "id": "ae0f82c8"
      },
      "source": [
        "### Set Data Type\n",
        "a set is a collection of unique elements, and it is defined by enclosing its elements in curly braces {} or by using the set() constructor. Sets do not allow duplicate elements, and they are unordered, meaning the elements do not have a specific order. Here's an example:"
      ]
    },
    {
      "cell_type": "code",
      "execution_count": 5,
      "id": "a2342aca",
      "metadata": {
        "id": "a2342aca",
        "outputId": "2a97f0e4-5876-4483-bd41-a29910871256",
        "colab": {
          "base_uri": "https://localhost:8080/"
        }
      },
      "outputs": [
        {
          "output_type": "stream",
          "name": "stdout",
          "text": [
            "{35, 22, 10, 93, 94}\n",
            "{35, 22, 10, 93, 94}\n"
          ]
        }
      ],
      "source": [
        "# Creating a set\n",
        "my_set = {10, 22, 93, 94, 35}\n",
        "print(my_set) # no duplications\n",
        "\n",
        "my_set.add(22)\n",
        "print(my_set)"
      ]
    },
    {
      "cell_type": "markdown",
      "id": "6b82392a",
      "metadata": {
        "id": "6b82392a"
      },
      "source": [
        "### Dict Data Type\n",
        "a dictionary (dict) is a collection of key-value pairs. Each key in a dictionary must be unique, and it is associated with a corresponding value. Dictionaries are defined using curly braces {} and colons : to separate keys and values, or by using the dict() constructor. Here's an example:"
      ]
    },
    {
      "cell_type": "code",
      "execution_count": null,
      "id": "0f45fec1",
      "metadata": {
        "id": "0f45fec1",
        "outputId": "d3ef8eca-b0ac-444e-b5f7-f3d4518d9b51"
      },
      "outputs": [
        {
          "name": "stdout",
          "output_type": "stream",
          "text": [
            "{'name': 'Ajay', 'age': 25, 'Country': 'India'}\n"
          ]
        }
      ],
      "source": [
        "# Creating a dictionary\n",
        "my_dict = {\"name\": \"Ajay\", \"age\": 25, \"Country\": \"India\"}\n",
        "print(my_dict)"
      ]
    },
    {
      "cell_type": "markdown",
      "id": "61e2dc2f",
      "metadata": {
        "id": "61e2dc2f"
      },
      "source": [
        "____\n",
        "___\n",
        "<div class=\"alert alert-block alert-success\">\n",
        "<h2>Great Job!</h2>\n",
        "\n",
        "That's all we need to know for now! Congratulations, you have learnt one more topic and hands-on with Python.This Notebook is prepared by <a href = 'https://www.linkedin.com/in/sumitkumarshukla'> Sumit Kumar Shukla</a> for The Analytix (Theax) Course .\n",
        "</div>\n",
        "\n",
        "_______\n",
        "<h1><b><u>About the Author</u></b></h1>\n",
        "\n",
        "<font color='Blue'><b>Mr. Sumit Kumar Shukla</b></font><br>\n",
        "<font color='Blue'><b>Founder & Director (Theax), Data Scientist & Subject Matter Expert - IBM</b></font>\n",
        "\n",
        "\n",
        "Mr. Sumit is the <b>Founder and Director at The Analytix (Theax)</b>, a Data Scientist familiar with gathering, cleaning and organizing data for use by technical personnel. Advanced understanding of statistical, algebraic and other analytical techniques. Highly organized, motivated and diligent with significant background in Data Analytics and Modelling. Detail-oriented team player with strong organizational skills. Ability to handle multiple projects simultaneously with a high degree of accuracy.<br>\n",
        "    \n",
        "Having 5+ years of experience tutoring students from IITs, NITs, IISCs, IIMs, and other prestigious institutions. Google Data Studio certified and IBM certified data analyst. Knowledgeable about Advanced Analytics using languages like Python, R, SQL, and Tableau. Competent in Data Science, Machine learning models, graph databases, and data mining approaches for predictive modelling and analytics.\n",
        "\n",
        "**© Copyright 2023. All Rights Reserved. Course materials may not be reproduced in whole or in part without the prior written permission of Theax.**"
      ]
    }
  ],
  "metadata": {
    "kernelspec": {
      "display_name": "Python 3 (ipykernel)",
      "language": "python",
      "name": "python3"
    },
    "language_info": {
      "codemirror_mode": {
        "name": "ipython",
        "version": 3
      },
      "file_extension": ".py",
      "mimetype": "text/x-python",
      "name": "python",
      "nbconvert_exporter": "python",
      "pygments_lexer": "ipython3",
      "version": "3.9.18"
    },
    "colab": {
      "provenance": []
    }
  },
  "nbformat": 4,
  "nbformat_minor": 5
}